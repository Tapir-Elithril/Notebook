{
 "cells": [
  {
   "cell_type": "markdown",
   "id": "c7ca776b",
   "metadata": {},
   "source": [
    "## Shapley 值的计算\n",
    "\n",
    "### 注意事项\n",
    "\n",
    "0. **这是本实验应该看的第一个文件，请根据本文件的指示，逐步完成实验**\n",
    "1. 本实验需要填空的文件夹为 exactSV.py 和 mcSV.py，**请不要修改其他文件，包括本 ipynb 文件**\n",
    "2. 完成两个文件函数代码的实现后，在以下每个代码框中验证计算结果\n",
    "3. 在实验过程中，**允许使用生成式人工智能理解代码框架并完成实验**\n",
    "4. **提交时需要将整个代码文件夹压缩成 .zip 格式提交，并且注意保留本 ipynb 文件的所有运行结果**，不要清除输出\n",
    "5. （**很重要**）建议每次更新代码后，在运行 ipynb 文件前先重启（restart），否则其中一些记忆变量会干扰实验结果\n",
    "\n",
    "文件内容解释：\n",
    "\n",
    "- dataset: iris 训练与测试数据\n",
    "- groundTruth: 不同任务 Shapley 值计算的正确答案\n",
    "- exactSV.py：代补充 Shapley 值准确算法（基于联盟）的代码文件；\n",
    "- game.py: 定义了几个 Shapley 值计算任务，具体内容无需理解，可以视为黑箱；\n",
    "- homework.ipynb: 运行测试的文件；\n",
    "- mcSV: 待补充采样算法近似计算 Shapley 值算法的代码文件；\n",
    "- naiveSV: 已给出的 Shapley 值准确算法（基于排列）的代码问题；\n",
    "- util.py: 定义了一些函数，具体内容无需理解，可以视为黑箱。"
   ]
  },
  {
   "cell_type": "markdown",
   "id": "1c29db5b",
   "metadata": {},
   "source": [
    "### 任务一：理解 naiveSV.py 中的 Shapley 值计算代码\n",
    "\n",
    "naiveSV.py 中给出了使用公式\n",
    "$$ SV_i = \\frac{1}{n!} \\sum_{\\sigma \\in S_n} (u(P_i(\\sigma) \\cup \\{i\\}) - u(P_i(\\sigma))) $$\n",
    "准确计算 Shapley 值的算法。要求同学们根据给出的注释理解代码，在接下来的填空中可以仿照这一代码完成实验。"
   ]
  },
  {
   "cell_type": "markdown",
   "id": "85f2f809",
   "metadata": {},
   "source": [
    "### 任务二：补全 exactSV.py 中的 Shapley 值计算代码，并运行接下来的两个代码框验证结果\n",
    "\n",
    "exactSV.py 中希望你补全基于公式\n",
    "$$ SV_i = \\frac{1}{n!} \\sum_{S \\subseteq N \\setminus \\{i\\}} |S|!(n - |S| - 1)! (u(S \\cup \\{i\\}) - u(S)) $$\n",
    "准确计算 Shapley 值的算法。要求同学们根据注释补充完成相应的代码，然后运行接下来的两个代码框验证结果准确性。"
   ]
  },
  {
   "cell_type": "code",
   "execution_count": 1,
   "id": "39d4f8bc",
   "metadata": {},
   "outputs": [
    {
     "name": "stdout",
     "output_type": "stream",
     "text": [
      "Number of player:  10\n",
      "Generated 1023 Sets\n"
     ]
    },
    {
     "name": "stderr",
     "output_type": "stream",
     "text": [
      "100%|██████████| 1023/1023 [00:00<00:00, 42179.29it/s]"
     ]
    },
    {
     "name": "stdout",
     "output_type": "stream",
     "text": [
      "My Results: [0.1        0.21111111 0.33611111 0.47896825 0.64563492 0.84563492\n",
      " 1.09563492 1.42896825 1.92896825 2.92896825]\n",
      "Ground Truth: [0.1        0.21111111 0.33611111 0.47896825 0.64563492 0.84563492\n",
      " 1.09563492 1.42896825 1.92896825 2.92896825]\n",
      "Accuracy: 100.00%\n"
     ]
    },
    {
     "name": "stderr",
     "output_type": "stream",
     "text": [
      "\n"
     ]
    }
   ],
   "source": [
    "import os\n",
    "import numpy as np\n",
    "from exactSV import exact_sv\n",
    "from game import Game\n",
    "\n",
    "game_type = 'airport'\n",
    "num_players = 10\n",
    "game = Game(gt = game_type, n = num_players)\n",
    "mySV = exact_sv(game) # 你计算的 Shapley 值\n",
    "print(\"My Results:\", mySV)\n",
    "gt_path = f\"./groundTruth/{game_type}_{num_players}.txt\"\n",
    "\n",
    "# 判断你的答案是否正确（即与标准答案相差有限）\n",
    "if os.path.exists(gt_path):\n",
    "    try:\n",
    "        gt_values = np.loadtxt(gt_path) # Shapley 值标准答案\n",
    "        print(\"Ground Truth:\", gt_values)\n",
    "        error = np.abs(mySV - gt_values)\n",
    "        threshold = 1e-2\n",
    "        is_correct = np.abs(error) < threshold\n",
    "        accuracy = np.mean(is_correct) * 100\n",
    "        print(f\"Accuracy: {accuracy:.2f}%\")\n",
    "    except Exception as e:\n",
    "        print(f\"Accuracy caculation wrong: {e}\")\n",
    "else:\n",
    "    print(f\"Ground truth not exists: {gt_path}\")"
   ]
  },
  {
   "cell_type": "markdown",
   "id": "b3a7f3e3",
   "metadata": {},
   "source": [
    "检查扩展性：当 $n = 20$ 时运算可能偏慢，该部分检查你的算法是否能在合理的时间内计算完成。"
   ]
  },
  {
   "cell_type": "code",
   "execution_count": 2,
   "id": "765e6225",
   "metadata": {},
   "outputs": [
    {
     "name": "stdout",
     "output_type": "stream",
     "text": [
      "Number of player:  20\n",
      "Generated 1048575 Sets\n"
     ]
    },
    {
     "name": "stderr",
     "output_type": "stream",
     "text": [
      "100%|██████████| 1048575/1048575 [00:44<00:00, 23303.02it/s]\n"
     ]
    },
    {
     "name": "stdout",
     "output_type": "stream",
     "text": [
      "My Results: [0.05       0.10263158 0.15818713 0.21701066 0.27951066 0.34617733\n",
      " 0.4176059  0.49452898 0.57786231 0.6687714  0.7687714  0.87988251\n",
      " 1.00488251 1.14773966 1.31440632 1.51440632 1.76440632 2.09773966\n",
      " 2.59773966 3.59773966]\n",
      "Ground Truth: [0.05       0.10263158 0.15818713 0.21701066 0.27951066 0.34617733\n",
      " 0.4176059  0.49452898 0.57786231 0.6687714  0.7687714  0.87988251\n",
      " 1.00488251 1.14773966 1.31440632 1.51440632 1.76440632 2.09773966\n",
      " 2.59773966 3.59773966]\n",
      "Accuracy: 100.00%\n"
     ]
    }
   ],
   "source": [
    "import os\n",
    "import numpy as np\n",
    "from exactSV import exact_sv\n",
    "from game import Game\n",
    "\n",
    "game_type = 'airport'\n",
    "num_players = 20\n",
    "game = Game(gt = game_type, n = num_players)\n",
    "mySV = exact_sv(game)\n",
    "print(\"My Results:\", mySV)\n",
    "gt_path = f\"./groundTruth/{game_type}_{num_players}.txt\"\n",
    "if os.path.exists(gt_path):\n",
    "    try:\n",
    "        gt_values = np.loadtxt(gt_path)\n",
    "        print(\"Ground Truth:\", gt_values)\n",
    "        error = np.abs(mySV - gt_values)\n",
    "        threshold = 1e-2\n",
    "        is_correct = np.abs(error) < threshold\n",
    "        accuracy = np.mean(is_correct) * 100\n",
    "        print(f\"Accuracy: {accuracy:.2f}%\")\n",
    "    except Exception as e:\n",
    "        print(f\"Accuracy caculation wrong: {e}\")\n",
    "else:\n",
    "    print(f\"Ground truth not exists: {gt_path}\")"
   ]
  },
  {
   "cell_type": "markdown",
   "id": "e9394e04",
   "metadata": {},
   "source": [
    "### 任务三：补全 mcSV.py 中的 Shapley 值采样算法，并运行下面的代码框验证结果\n",
    "\n",
    "使用蒙特卡洛方法计算给定博弈中每个玩家的 Shapley 值。蒙特卡洛方法通过随机采样玩家排列来估算 Shapley 值，适用于玩家数量较多时的近似计算。\n",
    "\n",
    "实现非常简单：回忆基于排列的准确 Shapley 值计算算法，需要计算 n! 个排列中所有玩家的边际贡献，蒙特卡洛采样算法从 n! 个排列中随机出一部分计算所有玩家的边际贡献作为 Shapley 值的近似解。\n",
    "\n",
    "实现完成后运行下面的代码检查采样方法实现准确性，注意**可以调整采样次数，但不要修改误差标准**。"
   ]
  },
  {
   "cell_type": "code",
   "execution_count": 3,
   "id": "47bc5155",
   "metadata": {},
   "outputs": [
    {
     "name": "stderr",
     "output_type": "stream",
     "text": [
      "100%|██████████| 1600000/1600000 [02:18<00:00, 11525.31it/s]\n"
     ]
    },
    {
     "name": "stdout",
     "output_type": "stream",
     "text": [
      "My Results: [0.04020625 0.08174875 0.12470687 0.17052375 0.217485   0.26884375\n",
      " 0.32043437 0.37792188 0.43837125 0.49768375 0.56512187 0.63422937\n",
      " 0.71359625 0.79881313 0.88913125 0.98452375 1.09729813 1.22442812\n",
      " 1.36705375 1.52434125 1.734815   1.98793187 2.31781    2.81424375\n",
      " 3.80873688]\n",
      "Ground Truth: [0.04       0.08166667 0.12514493 0.17059947 0.21821852 0.26821852\n",
      " 0.3208501  0.37640566 0.43522918 0.49772918 0.56439585 0.63582442\n",
      " 0.7127475  0.79608083 0.88698992 0.98698992 1.09810103 1.22310103\n",
      " 1.36595818 1.53262484 1.73262484 1.98262484 2.31595818 2.81595818\n",
      " 3.81595818]\n",
      "Accuracy: 100.00%\n"
     ]
    }
   ],
   "source": [
    "import os\n",
    "import numpy as np\n",
    "from mcSV import mc_sv\n",
    "from game import Game\n",
    "\n",
    "threshold = 1e-2\n",
    "game_type = 'airport'\n",
    "num_players = 25\n",
    "total_sample_budgets = 1600000 * num_players\n",
    "game = Game(gt = game_type, n = num_players)\n",
    "mySV = mc_sv(game, total_sample_budget = total_sample_budgets)\n",
    "print(\"My Results:\", mySV)\n",
    "gt_path = f\"./groundTruth/{game_type}_{num_players}.txt\"\n",
    "if os.path.exists(gt_path):\n",
    "    try:\n",
    "        gt_values = np.loadtxt(gt_path)\n",
    "        print(\"Ground Truth:\", gt_values)\n",
    "        error = np.abs(mySV - gt_values)\n",
    "        is_correct = np.abs(error) < threshold\n",
    "        accuracy = np.mean(is_correct) * 100\n",
    "        print(f\"Accuracy: {accuracy:.2f}%\")\n",
    "    except Exception as e:\n",
    "        print(f\"Accuracy caculation wrong: {e}\")\n",
    "else:\n",
    "    print(f\"Ground truth not exists: {gt_path}\")"
   ]
  },
  {
   "cell_type": "markdown",
   "id": "beab73ad",
   "metadata": {},
   "source": [
    "检查其他任务的采样准确性：\n",
    "1. voting：51人投票计算每个人的权利大小；\n",
    "2. iris 机器学习分类模型，注意使用已经给定的 util 中 get dataset 的方式划分数据集合（通俗而言就是不要动代码），否则会导致 Shapley 值答案变化。"
   ]
  },
  {
   "cell_type": "code",
   "execution_count": 4,
   "id": "ef378ff0",
   "metadata": {},
   "outputs": [
    {
     "name": "stderr",
     "output_type": "stream",
     "text": [
      "100%|██████████| 800000/800000 [02:53<00:00, 4616.54it/s] "
     ]
    },
    {
     "name": "stdout",
     "output_type": "stream",
     "text": [
      "My Results: [0.08833    0.07941375 0.05058    0.04878625 0.04885125 0.0473075\n",
      " 0.03921    0.0314575  0.031625   0.0257525  0.0240375  0.02390875\n",
      " 0.0219175  0.02226125 0.02203875 0.01975125 0.0182625  0.01819875\n",
      " 0.01832875 0.0184975  0.01647875 0.01649125 0.01636125 0.01636875\n",
      " 0.0145875  0.01459375 0.01269375 0.01306    0.01284125 0.0127075\n",
      " 0.010835   0.01076    0.01089125 0.01073375 0.00902    0.00735875\n",
      " 0.00720375 0.00711625 0.0073475  0.0071075  0.0073875  0.0071675\n",
      " 0.0072025  0.00724875 0.0054     0.00555    0.005275   0.00543875\n",
      " 0.005385   0.00542875 0.0054425 ]\n",
      "Ground Truth: [0.08831  0.07973  0.05096  0.04898  0.04898  0.047    0.03917  0.03147\n",
      " 0.03147  0.02577  0.02388  0.02388  0.022    0.022    0.022    0.02013\n",
      " 0.01827  0.01827  0.01827  0.01827  0.01641  0.01641  0.01641  0.01641\n",
      " 0.01456  0.01456  0.01272  0.01272  0.01272  0.01272  0.01088  0.01088\n",
      " 0.01088  0.01088  0.009053 0.00723  0.00723  0.00723  0.00723  0.00723\n",
      " 0.00723  0.00723  0.00723  0.00723  0.005412 0.005412 0.005412 0.005412\n",
      " 0.005412 0.005412 0.005412]\n",
      "Accuracy: 100.00%\n"
     ]
    },
    {
     "name": "stderr",
     "output_type": "stream",
     "text": [
      "\n"
     ]
    }
   ],
   "source": [
    "## voting\n",
    "import os\n",
    "import numpy as np\n",
    "from mcSV import mc_sv\n",
    "from game import Game\n",
    "\n",
    "threshold = 1e-2\n",
    "game_type = 'voting'\n",
    "num_players = 51\n",
    "total_sample_budgets = 800000 *num_players\n",
    "game = Game(gt = game_type, n = num_players)\n",
    "mySV = mc_sv(game, total_sample_budget = total_sample_budgets)\n",
    "print(\"My Results:\", mySV)\n",
    "gt_path = f\"./groundTruth/{game_type}_{num_players}.txt\"\n",
    "if os.path.exists(gt_path):\n",
    "    try:\n",
    "        gt_values = np.loadtxt(gt_path)\n",
    "        print(\"Ground Truth:\", gt_values)\n",
    "        error = np.abs(mySV - gt_values)\n",
    "        is_correct = np.abs(error) < threshold\n",
    "        accuracy = np.mean(is_correct) * 100\n",
    "        print(f\"Accuracy: {accuracy:.2f}%\")\n",
    "    except Exception as e:\n",
    "        print(f\"Accuracy caculation wrong: {e}\")\n",
    "else:\n",
    "    print(f\"Ground truth not exists: {gt_path}\")"
   ]
  },
  {
   "cell_type": "code",
   "execution_count": 2,
   "id": "05db57cf",
   "metadata": {},
   "outputs": [
    {
     "name": "stderr",
     "output_type": "stream",
     "text": [
      "100%|██████████| 10000/10000 [15:49<00:00, 10.54it/s]"
     ]
    },
    {
     "name": "stdout",
     "output_type": "stream",
     "text": [
      "My Results: [ 0.008144  0.009468  0.005686  0.013276  0.009052  0.01001   0.014034\n",
      "  0.013984  0.01301   0.004702  0.008382  0.013724  0.014652  0.014288\n",
      "  0.007176  0.01449   0.007318  0.009232  0.014996  0.005974  0.010788\n",
      "  0.013154  0.006406  0.009754  0.008768  0.00603   0.0132    0.008732\n",
      "  0.01287   0.004484  0.010228  0.01404   0.013542  0.007478 -0.000284\n",
      "  0.013254  0.013     0.013024  0.01433   0.002802  0.004002  0.012552\n",
      " -0.001256  0.010108  0.01006   0.009544  0.015092  0.014548  0.008602\n",
      "  0.011922  0.01448   0.01407   0.014176  0.001868  0.014276  0.014172\n",
      "  0.013598  0.01233   0.014894  0.00357   0.004202  0.008226  0.002306\n",
      "  0.011896  0.014492  0.011542  0.00678   0.0103    0.008208  0.00742\n",
      "  0.004036  0.014782  0.00344   0.005222  0.014318  0.009154  0.011364\n",
      "  0.013242  0.01509   0.004272  0.012822  0.011054  0.013722  0.013316\n",
      "  0.013416  0.002034  0.011414  0.011596  0.007856  0.0113    0.005296\n",
      "  0.005836  0.007424  0.00971   0.01301   0.009424  0.005994  0.012718\n",
      "  0.00943   0.01253 ]\n",
      "Ground Truth: [ 0.00793372  0.01002553  0.00536287  0.01404442  0.00930468  0.00871755\n",
      "  0.01403318  0.01441887  0.01350059  0.00541077  0.0079024   0.01344323\n",
      "  0.01396698  0.01371557  0.00739958  0.01413456  0.00840879  0.00965575\n",
      "  0.01453931  0.00638422  0.01027819  0.01374488  0.00714004  0.01036321\n",
      "  0.00833438  0.0054726   0.0124371   0.00878752  0.01331627  0.00467898\n",
      "  0.01090574  0.01415957  0.01424992  0.00761536 -0.00022924  0.01381916\n",
      "  0.01265845  0.01367061  0.01399618  0.00216574  0.00427273  0.01222532\n",
      "  0.0003095   0.01047582  0.01074673  0.00885411  0.01413789  0.01468641\n",
      "  0.00805266  0.01197225  0.01425291  0.01432503  0.01441201  0.001409\n",
      "  0.01351932  0.01464956  0.01228289  0.01327724  0.01438027  0.00401335\n",
      "  0.00401715  0.00699989  0.00258494  0.01247532  0.01387466  0.01099359\n",
      "  0.00664481  0.01044784  0.0069296   0.00812996  0.00460936  0.01392991\n",
      "  0.0038369   0.00638238  0.01409766  0.00836365  0.01092679  0.01320619\n",
      "  0.01422473  0.00494585  0.01257841  0.01071013  0.01428057  0.01297442\n",
      "  0.01426972  0.00077601  0.01085037  0.01209873  0.00850899  0.01098067\n",
      "  0.00491677  0.00621838  0.00935401  0.00953138  0.01313203  0.00915373\n",
      "  0.00558103  0.01322568  0.00932427  0.01179129]\n",
      "Accuracy: 100.00%\n"
     ]
    },
    {
     "name": "stderr",
     "output_type": "stream",
     "text": [
      "\n"
     ]
    }
   ],
   "source": [
    "## iris classfication\n",
    "import os\n",
    "import numpy as np\n",
    "from sklearn import svm\n",
    "from mcSV import mc_sv\n",
    "from game import Game\n",
    "from util import get_dataset\n",
    "\n",
    "threshold = 1e-2\n",
    "game_type = 'iris'\n",
    "num_players = 100\n",
    "total_sample_budgets = 10000 * num_players\n",
    "datapath = './dataset'\n",
    "trnX, trnY, tstX, tstY = get_dataset(game_type, datapath, trainsize = 150 - num_players)\n",
    "mymodel = svm.SVC(decision_function_shape='ovo', probability=True)\n",
    "game = Game(gt = game_type, x_train = trnX, y_train = trnY, x_test = tstX, y_test = tstY,\n",
    "            model = mymodel, n = num_players)\n",
    "mySV = mc_sv(game, total_sample_budget = total_sample_budgets)\n",
    "print(\"My Results:\", mySV)\n",
    "gt_path = f\"./groundTruth/{game_type}_{num_players}.txt\"\n",
    "if os.path.exists(gt_path):\n",
    "    try:\n",
    "        gt_values = np.loadtxt(gt_path)\n",
    "        print(\"Ground Truth:\", gt_values)\n",
    "        error = np.abs(mySV - gt_values)\n",
    "        is_correct = np.abs(error) < threshold\n",
    "        accuracy = np.mean(is_correct) * 100\n",
    "        print(f\"Accuracy: {accuracy:.2f}%\")\n",
    "    except Exception as e:\n",
    "        print(f\"Accuracy caculation wrong: {e}\")\n",
    "else:\n",
    "    print(f\"Ground truth not exists: {gt_path}\")"
   ]
  },
  {
   "cell_type": "markdown",
   "id": "a45638d5",
   "metadata": {},
   "source": [
    "测试采样算法的收敛情况，即随着采样次数的增大，采样得到的 Shapley 近似值与真实值之间的均方误差降低的情况。下面的代码通过绘制均方误差随采样次数变化的曲线应当能展示这一点。"
   ]
  },
  {
   "cell_type": "code",
   "execution_count": 6,
   "id": "395734fe",
   "metadata": {},
   "outputs": [
    {
     "name": "stdout",
     "output_type": "stream",
     "text": [
      "Ground Truth: [0.08831  0.07973  0.05096  0.04898  0.04898  0.047    0.03917  0.03147\n",
      " 0.03147  0.02577  0.02388  0.02388  0.022    0.022    0.022    0.02013\n",
      " 0.01827  0.01827  0.01827  0.01827  0.01641  0.01641  0.01641  0.01641\n",
      " 0.01456  0.01456  0.01272  0.01272  0.01272  0.01272  0.01088  0.01088\n",
      " 0.01088  0.01088  0.009053 0.00723  0.00723  0.00723  0.00723  0.00723\n",
      " 0.00723  0.00723  0.00723  0.00723  0.005412 0.005412 0.005412 0.005412\n",
      " 0.005412 0.005412 0.005412]\n",
      "Testing with sample budgets: [     101      427     1792     7515    31506   132085   553741  2321442\n",
      "  9732155 40800000]\n",
      "\n",
      "Calculating Shapley Values for budget = 101...\n"
     ]
    },
    {
     "name": "stderr",
     "output_type": "stream",
     "text": [
      "100%|██████████| 1/1 [00:00<00:00, 2214.52it/s]\n"
     ]
    },
    {
     "name": "stdout",
     "output_type": "stream",
     "text": [
      "Budget: 101, MSE: 1.907276e-02\n",
      "\n",
      "Calculating Shapley Values for budget = 427...\n"
     ]
    },
    {
     "name": "stderr",
     "output_type": "stream",
     "text": [
      "100%|██████████| 8/8 [00:00<00:00, 4282.63it/s]\n"
     ]
    },
    {
     "name": "stdout",
     "output_type": "stream",
     "text": [
      "Budget: 427, MSE: 2.133888e-03\n",
      "\n",
      "Calculating Shapley Values for budget = 1792...\n"
     ]
    },
    {
     "name": "stderr",
     "output_type": "stream",
     "text": [
      "100%|██████████| 35/35 [00:00<00:00, 4119.33it/s]\n"
     ]
    },
    {
     "name": "stdout",
     "output_type": "stream",
     "text": [
      "Budget: 1792, MSE: 5.839769e-04\n",
      "\n",
      "Calculating Shapley Values for budget = 7515...\n"
     ]
    },
    {
     "name": "stderr",
     "output_type": "stream",
     "text": [
      "100%|██████████| 147/147 [00:00<00:00, 3913.39it/s]\n"
     ]
    },
    {
     "name": "stdout",
     "output_type": "stream",
     "text": [
      "Budget: 7515, MSE: 2.333969e-04\n",
      "\n",
      "Calculating Shapley Values for budget = 31506...\n"
     ]
    },
    {
     "name": "stderr",
     "output_type": "stream",
     "text": [
      "100%|██████████| 617/617 [00:00<00:00, 4216.09it/s]\n"
     ]
    },
    {
     "name": "stdout",
     "output_type": "stream",
     "text": [
      "Budget: 31506, MSE: 2.487625e-05\n",
      "\n",
      "Calculating Shapley Values for budget = 132085...\n"
     ]
    },
    {
     "name": "stderr",
     "output_type": "stream",
     "text": [
      "100%|██████████| 2589/2589 [00:00<00:00, 4408.28it/s]\n"
     ]
    },
    {
     "name": "stdout",
     "output_type": "stream",
     "text": [
      "Budget: 132085, MSE: 8.450943e-06\n",
      "\n",
      "Calculating Shapley Values for budget = 553741...\n"
     ]
    },
    {
     "name": "stderr",
     "output_type": "stream",
     "text": [
      "100%|██████████| 10857/10857 [00:02<00:00, 4445.90it/s]\n"
     ]
    },
    {
     "name": "stdout",
     "output_type": "stream",
     "text": [
      "Budget: 553741, MSE: 1.363510e-06\n",
      "\n",
      "Calculating Shapley Values for budget = 2321442...\n"
     ]
    },
    {
     "name": "stderr",
     "output_type": "stream",
     "text": [
      "100%|██████████| 45518/45518 [00:10<00:00, 4464.64it/s]\n"
     ]
    },
    {
     "name": "stdout",
     "output_type": "stream",
     "text": [
      "Budget: 2321442, MSE: 3.328359e-07\n",
      "\n",
      "Calculating Shapley Values for budget = 9732155...\n"
     ]
    },
    {
     "name": "stderr",
     "output_type": "stream",
     "text": [
      "100%|██████████| 190826/190826 [00:40<00:00, 4673.56it/s]\n"
     ]
    },
    {
     "name": "stdout",
     "output_type": "stream",
     "text": [
      "Budget: 9732155, MSE: 1.151645e-07\n",
      "\n",
      "Calculating Shapley Values for budget = 40800000...\n"
     ]
    },
    {
     "name": "stderr",
     "output_type": "stream",
     "text": [
      "100%|██████████| 800000/800000 [02:48<00:00, 4759.82it/s] \n"
     ]
    },
    {
     "name": "stdout",
     "output_type": "stream",
     "text": [
      "Budget: 40800000, MSE: 2.627433e-08\n"
     ]
    },
    {
     "data": {
      "image/png": "[encoded data removed]",
      "text/plain": [
       "<Figure size 1000x600 with 1 Axes>"
      ]
     },
     "metadata": {},
     "output_type": "display_data"
    }
   ],
   "source": [
    "import os\n",
    "import numpy as np\n",
    "import matplotlib.pyplot as plt\n",
    "from mcSV import mc_sv\n",
    "from game import Game\n",
    "\n",
    "threshold = 1e-2\n",
    "game_type = 'voting'\n",
    "num_players = 51\n",
    "min_total_sample_budgets = num_players * 2\n",
    "max_total_sample_budgets = num_players * 800000\n",
    "game = Game(gt = game_type, n = num_players)\n",
    "gt_path = f\"./groundTruth/{game_type}_{num_players}.txt\"\n",
    "if os.path.exists(gt_path):\n",
    "    try:\n",
    "        gt_values = np.loadtxt(gt_path)\n",
    "        print(\"Ground Truth:\", gt_values)\n",
    "    except Exception as e:\n",
    "        print(f\"Error loading ground truth: {e}\")\n",
    "        gt_values = None\n",
    "else:\n",
    "    print(f\"Ground truth not exists: {gt_path}\")\n",
    "\n",
    "if gt_values is None:\n",
    "    print(\"Cannot proceed with MSE calculation without ground truth. Exiting.\")\n",
    "    exit()\n",
    "else:\n",
    "    #######examples#################\n",
    "    sample_budgets_to_test = np.logspace(np.log10(min_total_sample_budgets), \n",
    "                                         np.log10(max_total_sample_budgets), num=10, dtype=int)\n",
    "    sample_budgets_to_test = np.maximum(num_players, sample_budgets_to_test)\n",
    "    sample_budgets_to_test = np.unique(sample_budgets_to_test)\n",
    "    print(f\"Testing with sample budgets: {sample_budgets_to_test}\")\n",
    "    ################################\n",
    "\n",
    "    mse_values = []\n",
    "\n",
    "    for budget in sample_budgets_to_test:\n",
    "        print(f\"\\nCalculating Shapley Values for budget = {budget}...\")\n",
    "        current_mySV = mc_sv(game, total_sample_budget=budget)\n",
    "        \n",
    "        if current_mySV is None or len(current_mySV) != len(gt_values):\n",
    "            print(f\"Error: mc_sv did not return valid Shapley values for budget {budget}. Expected length {len(gt_values)}, got {len(current_mySV) if current_mySV is not None else 'None'}.\")\n",
    "            mse_values.append(np.nan)\n",
    "            continue\n",
    "\n",
    "        mse = np.mean((current_mySV - gt_values)**2)\n",
    "        mse_values.append(mse)\n",
    "        print(f\"Budget: {budget}, MSE: {mse:.6e}\")\n",
    "\n",
    "    plt.figure(figsize=(10, 6))\n",
    "    plt.plot(sample_budgets_to_test, mse_values, marker='o', linestyle='-')\n",
    "    plt.xscale('log')\n",
    "    plt.yscale('log')\n",
    "    plt.xlabel(\"Total Sample Budget\")\n",
    "    plt.ylabel(\"MSE\")\n",
    "    plt.title(f\"'{game_type}'game's MSE vs Shapley sampling times (N={num_players})\")\n",
    "    plt.grid(True, which=\"both\", ls=\"-\")\n",
    "    plt.tight_layout()\n",
    "    plt.show()"
   ]
  }
 ],
 "metadata": {
  "kernelspec": {
   "display_name": "base",
   "language": "python",
   "name": "python3"
  },
  "language_info": {
   "codemirror_mode": {
    "name": "ipython",
    "version": 3
   },
   "file_extension": ".py",
   "mimetype": "text/x-python",
   "name": "python",
   "nbconvert_exporter": "python",
   "pygments_lexer": "ipython3",
   "version": "3.10.9"
  }
 },
 "nbformat": 4,
 "nbformat_minor": 5
}
